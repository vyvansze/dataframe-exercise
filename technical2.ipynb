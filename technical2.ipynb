{
  "nbformat": 4,
  "nbformat_minor": 0,
  "metadata": {
    "colab": {
      "provenance": [],
      "authorship_tag": "ABX9TyNwIilEeXbrSs/n+k2gPEn8",
      "include_colab_link": true
    },
    "kernelspec": {
      "name": "python3",
      "display_name": "Python 3"
    },
    "language_info": {
      "name": "python"
    }
  },
  "cells": [
    {
      "cell_type": "markdown",
      "metadata": {
        "id": "view-in-github",
        "colab_type": "text"
      },
      "source": [
        "<a href=\"https://colab.research.google.com/github/vyvansze/dataframe-exercise/blob/main/technical2.ipynb\" target=\"_parent\"><img src=\"https://colab.research.google.com/assets/colab-badge.svg\" alt=\"Open In Colab\"/></a>"
      ]
    },
    {
      "cell_type": "code",
      "source": [
        "!git add exercises/technical2.ipynb"
      ],
      "metadata": {
        "colab": {
          "base_uri": "https://localhost:8080/"
        },
        "id": "aUaZLfjuFeYB",
        "outputId": "9f1f55e0-6e64-499c-f535-b91ef9c66e05"
      },
      "execution_count": 26,
      "outputs": [
        {
          "output_type": "stream",
          "name": "stdout",
          "text": [
            "fatal: pathspec 'exercises/technical2.ipynb' did not match any files\n"
          ]
        }
      ]
    },
    {
      "cell_type": "code",
      "execution_count": 11,
      "metadata": {
        "colab": {
          "base_uri": "https://localhost:8080/"
        },
        "id": "BwFUYEwfDf_m",
        "outputId": "cb8c7d61-42fc-4438-de83-b648ae964b29"
      },
      "outputs": [
        {
          "output_type": "stream",
          "name": "stdout",
          "text": [
            "    OrderID     Product     Category  Quantity  Price Customer Region  Total\n",
            "0      1001      Laptop  Electronics         2    800    Alice  North   1600\n",
            "1      1002       Mouse  Accessories         5     20      Bob  South    100\n",
            "2      1003    Keyboard  Accessories         3     50  Charlie   East    150\n",
            "3      1004     Monitor  Electronics         4    200    Diana   West    800\n",
            "4      1005      Laptop  Electronics         1    850    Ethan  North    850\n",
            "5      1006  Headphones  Accessories         6     40    Fiona  South    240\n",
            "6      1007       Mouse  Accessories        10     25   George   East    250\n",
            "7      1008       Chair    Furniture         2    150   Hannah   West    300\n",
            "8      1009        Desk    Furniture         1    300      Ian  North    300\n",
            "9      1010      Laptop  Electronics         3    900     Jane  South   2700\n",
            "10     1011     Printer  Electronics         2    120     Kyle   East    240\n",
            "11     1012    Keyboard  Accessories         4     55    Laura   West    220\n",
            "12     1013     Monitor  Electronics         2    250     Mike  North    500\n",
            "13     1014       Mouse  Accessories         7     20     Nina  South    140\n",
            "14     1015      Laptop  Electronics         5    750    Oscar   East   3750\n",
            "15     1016  Headphones  Accessories         3     35     Paul   West    105\n",
            "16     1017        Desk    Furniture         2    280    Queen  North    560\n",
            "17     1018     Monitor  Electronics         4    220   Robert  South    880\n",
            "18     1019     Printer  Electronics         1    110    Sarah   East    110\n",
            "19     1020       Chair    Furniture         6    180      Tom   West   1080\n"
          ]
        }
      ],
      "source": [
        "import pandas as pd\n",
        "\n",
        "\n",
        "data = {\n",
        "    \"OrderID\": range(1001, 1021),\n",
        "    \"Product\": [\n",
        "        \"Laptop\", \"Mouse\", \"Keyboard\", \"Monitor\", \"Laptop\",\n",
        "        \"Headphones\", \"Mouse\", \"Chair\", \"Desk\", \"Laptop\",\n",
        "        \"Printer\", \"Keyboard\", \"Monitor\", \"Mouse\", \"Laptop\",\n",
        "        \"Headphones\", \"Desk\", \"Monitor\", \"Printer\", \"Chair\"\n",
        "    ],\n",
        "    \"Category\": [\n",
        "        \"Electronics\", \"Accessories\", \"Accessories\", \"Electronics\", \"Electronics\",\n",
        "        \"Accessories\", \"Accessories\", \"Furniture\", \"Furniture\", \"Electronics\",\n",
        "        \"Electronics\", \"Accessories\", \"Electronics\", \"Accessories\", \"Electronics\",\n",
        "        \"Accessories\", \"Furniture\", \"Electronics\", \"Electronics\", \"Furniture\"\n",
        "    ],\n",
        "    \"Quantity\": [2, 5, 3, 4, 1, 6, 10, 2, 1, 3, 2, 4, 2, 7, 5, 3, 2, 4, 1, 6],\n",
        "    \"Price\": [800, 20, 50, 200, 850, 40, 25, 150, 300, 900, 120, 55, 250, 20, 750, 35, 280, 220, 110, 180],\n",
        "    \"Customer\": [\n",
        "        \"Alice\", \"Bob\", \"Charlie\", \"Diana\", \"Ethan\",\n",
        "        \"Fiona\", \"George\", \"Hannah\", \"Ian\", \"Jane\",\n",
        "        \"Kyle\", \"Laura\", \"Mike\", \"Nina\", \"Oscar\",\n",
        "        \"Paul\", \"Queen\", \"Robert\", \"Sarah\", \"Tom\"\n",
        "    ],\n",
        "    \"Region\": [\n",
        "        \"North\", \"South\", \"East\", \"West\", \"North\",\n",
        "        \"South\", \"East\", \"West\", \"North\", \"South\",\n",
        "        \"East\", \"West\", \"North\", \"South\", \"East\",\n",
        "        \"West\", \"North\", \"South\", \"East\", \"West\"\n",
        "    ]\n",
        "}\n",
        "df = pd.DataFrame(data)\n",
        "\n",
        "\n",
        "df[\"Total\"] = df[\"Quantity\"] * df[\"Price\"]\n",
        "\n",
        "\n",
        "print(df)"
      ]
    },
    {
      "cell_type": "code",
      "source": [
        "print(df.head())\n",
        "print(\"Shape:\", df.shape)\n",
        "print(\"Columns:\", df.columns.tolist())"
      ],
      "metadata": {
        "colab": {
          "base_uri": "https://localhost:8080/"
        },
        "id": "jqLnkHVXEGmt",
        "outputId": "c2784380-0131-491a-c4e0-eaf9ec49325b"
      },
      "execution_count": 12,
      "outputs": [
        {
          "output_type": "stream",
          "name": "stdout",
          "text": [
            "   OrderID   Product     Category  Quantity  Price Customer Region  Total\n",
            "0     1001    Laptop  Electronics         2    800    Alice  North   1600\n",
            "1     1002     Mouse  Accessories         5     20      Bob  South    100\n",
            "2     1003  Keyboard  Accessories         3     50  Charlie   East    150\n",
            "3     1004   Monitor  Electronics         4    200    Diana   West    800\n",
            "4     1005    Laptop  Electronics         1    850    Ethan  North    850\n",
            "Shape: (20, 8)\n",
            "Columns: ['OrderID', 'Product', 'Category', 'Quantity', 'Price', 'Customer', 'Region', 'Total']\n"
          ]
        }
      ]
    },
    {
      "cell_type": "code",
      "source": [
        "df['Discount Applied'] = df['Quantity'].apply(lambda x: 'Yes' if x > 5 else 'No')\n",
        "df['Final Total'] = df['Total']\n",
        "df.loc[df['Discount Applied'] == 'Yes', 'Final Total'] = df['Total'] - (df['Total'] * .1)\n",
        "print(df[df['Discount Applied'] == 'Yes'][[\"OrderID\", \"Product\", \"Total\", \"Discount Applied\", \"Final Total\"]])\n"
      ],
      "metadata": {
        "colab": {
          "base_uri": "https://localhost:8080/"
        },
        "id": "zHKT9UgLlLsf",
        "outputId": "7b602c05-5095-482d-9942-22cc0764b4ef"
      },
      "execution_count": 17,
      "outputs": [
        {
          "output_type": "stream",
          "name": "stdout",
          "text": [
            "    OrderID     Product  Total Discount Applied  Final Total\n",
            "5      1006  Headphones    240              Yes          216\n",
            "6      1007       Mouse    300              Yes          270\n",
            "13     1014       Mouse    210              Yes          189\n",
            "19     1020       Chair   1080              Yes          972\n"
          ]
        }
      ]
    },
    {
      "cell_type": "code",
      "source": [
        "new_row = {\n",
        "    \"OrderID\": 1021,\n",
        "    \"Product\": \"Tablet\",\n",
        "    \"Category\": \"Electronics\",\n",
        "    \"Quantity\": 2,\n",
        "    \"Price\": 450,\n",
        "    \"Customer\": \"Victor\",\n",
        "    \"Region\": \"East\"\n",
        "}\n",
        "\n",
        "\n",
        "df = pd.concat([df, pd.DataFrame([new_row])], ignore_index=True)\n",
        "print(df)"
      ],
      "metadata": {
        "colab": {
          "base_uri": "https://localhost:8080/"
        },
        "id": "jkdmY9ULEXhE",
        "outputId": "ce1584f8-70fc-4b25-e663-00eda92aed31"
      },
      "execution_count": 13,
      "outputs": [
        {
          "output_type": "stream",
          "name": "stdout",
          "text": [
            "    OrderID     Product     Category  Quantity  Price Customer Region   Total\n",
            "0      1001      Laptop  Electronics         2    800    Alice  North  1600.0\n",
            "1      1002       Mouse  Accessories         5     20      Bob  South   100.0\n",
            "2      1003    Keyboard  Accessories         3     50  Charlie   East   150.0\n",
            "3      1004     Monitor  Electronics         4    200    Diana   West   800.0\n",
            "4      1005      Laptop  Electronics         1    850    Ethan  North   850.0\n",
            "5      1006  Headphones  Accessories         6     40    Fiona  South   240.0\n",
            "6      1007       Mouse  Accessories        10     25   George   East   250.0\n",
            "7      1008       Chair    Furniture         2    150   Hannah   West   300.0\n",
            "8      1009        Desk    Furniture         1    300      Ian  North   300.0\n",
            "9      1010      Laptop  Electronics         3    900     Jane  South  2700.0\n",
            "10     1011     Printer  Electronics         2    120     Kyle   East   240.0\n",
            "11     1012    Keyboard  Accessories         4     55    Laura   West   220.0\n",
            "12     1013     Monitor  Electronics         2    250     Mike  North   500.0\n",
            "13     1014       Mouse  Accessories         7     20     Nina  South   140.0\n",
            "14     1015      Laptop  Electronics         5    750    Oscar   East  3750.0\n",
            "15     1016  Headphones  Accessories         3     35     Paul   West   105.0\n",
            "16     1017        Desk    Furniture         2    280    Queen  North   560.0\n",
            "17     1018     Monitor  Electronics         4    220   Robert  South   880.0\n",
            "18     1019     Printer  Electronics         1    110    Sarah   East   110.0\n",
            "19     1020       Chair    Furniture         6    180      Tom   West  1080.0\n",
            "20     1021      Tablet  Electronics         2    450   Victor   East     NaN\n"
          ]
        }
      ]
    },
    {
      "cell_type": "code",
      "source": [
        "df[\"Total\"] = df[\"Quantity\"] * df[\"Price\"]\n",
        "print(df)\n"
      ],
      "metadata": {
        "colab": {
          "base_uri": "https://localhost:8080/"
        },
        "id": "ycK1kNgQEj8x",
        "outputId": "7b8a95dc-bc28-44f3-97ee-766c6b57dcb1"
      },
      "execution_count": 14,
      "outputs": [
        {
          "output_type": "stream",
          "name": "stdout",
          "text": [
            "    OrderID     Product     Category  Quantity  Price Customer Region  Total\n",
            "0      1001      Laptop  Electronics         2    800    Alice  North   1600\n",
            "1      1002       Mouse  Accessories         5     20      Bob  South    100\n",
            "2      1003    Keyboard  Accessories         3     50  Charlie   East    150\n",
            "3      1004     Monitor  Electronics         4    200    Diana   West    800\n",
            "4      1005      Laptop  Electronics         1    850    Ethan  North    850\n",
            "5      1006  Headphones  Accessories         6     40    Fiona  South    240\n",
            "6      1007       Mouse  Accessories        10     25   George   East    250\n",
            "7      1008       Chair    Furniture         2    150   Hannah   West    300\n",
            "8      1009        Desk    Furniture         1    300      Ian  North    300\n",
            "9      1010      Laptop  Electronics         3    900     Jane  South   2700\n",
            "10     1011     Printer  Electronics         2    120     Kyle   East    240\n",
            "11     1012    Keyboard  Accessories         4     55    Laura   West    220\n",
            "12     1013     Monitor  Electronics         2    250     Mike  North    500\n",
            "13     1014       Mouse  Accessories         7     20     Nina  South    140\n",
            "14     1015      Laptop  Electronics         5    750    Oscar   East   3750\n",
            "15     1016  Headphones  Accessories         3     35     Paul   West    105\n",
            "16     1017        Desk    Furniture         2    280    Queen  North    560\n",
            "17     1018     Monitor  Electronics         4    220   Robert  South    880\n",
            "18     1019     Printer  Electronics         1    110    Sarah   East    110\n",
            "19     1020       Chair    Furniture         6    180      Tom   West   1080\n",
            "20     1021      Tablet  Electronics         2    450   Victor   East    900\n"
          ]
        }
      ]
    },
    {
      "cell_type": "code",
      "source": [
        "df.loc[df[\"Product\"] == \"Mouse\", \"Price\"] = 30\n",
        "df[\"Total\"] = df[\"Quantity\"] * df[\"Price\"]\n",
        "print(df[df[\"Product\"] == \"Mouse\"])"
      ],
      "metadata": {
        "colab": {
          "base_uri": "https://localhost:8080/"
        },
        "id": "Tj2IMHSiiwQH",
        "outputId": "066e3bb3-f9e5-443a-ed03-0ad89434a83f"
      },
      "execution_count": 15,
      "outputs": [
        {
          "output_type": "stream",
          "name": "stdout",
          "text": [
            "    OrderID Product     Category  Quantity  Price Customer Region  Total\n",
            "1      1002   Mouse  Accessories         5     30      Bob  South    150\n",
            "6      1007   Mouse  Accessories        10     30   George   East    300\n",
            "13     1014   Mouse  Accessories         7     30     Nina  South    210\n"
          ]
        }
      ]
    },
    {
      "cell_type": "code",
      "source": [
        "df = df.drop(columns=[\"Discount Applied\"])\n",
        "df = df.drop(columns=[\"Final Total\"])\n",
        "print(df.head())"
      ],
      "metadata": {
        "colab": {
          "base_uri": "https://localhost:8080/"
        },
        "id": "eRrbub8Bjtym",
        "outputId": "fdc9c30c-d7ab-49b1-c839-d3b4c4d3073f"
      },
      "execution_count": 18,
      "outputs": [
        {
          "output_type": "stream",
          "name": "stdout",
          "text": [
            "   OrderID   Product     Category  Quantity  Price Customer Region  Total\n",
            "0     1001    Laptop  Electronics         2    800    Alice  North   1600\n",
            "1     1002     Mouse  Accessories         5     30      Bob  South    150\n",
            "2     1003  Keyboard  Accessories         3     50  Charlie   East    150\n",
            "3     1004   Monitor  Electronics         4    200    Diana   West    800\n",
            "4     1005    Laptop  Electronics         1    850    Ethan  North    850\n"
          ]
        }
      ]
    },
    {
      "cell_type": "code",
      "source": [
        "df = df.drop(df[df[\"OrderID\"] == 1010].index, axis=0)\n",
        "print(df[df[\"OrderID\"] == 1010])\n",
        "df = df.drop(index=0)\n",
        "print(df.head())\n",
        "print(\"New shape:\", df.shape)"
      ],
      "metadata": {
        "colab": {
          "base_uri": "https://localhost:8080/"
        },
        "id": "5f864vLPjyZ8",
        "outputId": "929c7d70-85f5-4f84-92fa-1360a874c850"
      },
      "execution_count": 19,
      "outputs": [
        {
          "output_type": "stream",
          "name": "stdout",
          "text": [
            "Empty DataFrame\n",
            "Columns: [OrderID, Product, Category, Quantity, Price, Customer, Region, Total]\n",
            "Index: []\n",
            "   OrderID     Product     Category  Quantity  Price Customer Region  Total\n",
            "1     1002       Mouse  Accessories         5     30      Bob  South    150\n",
            "2     1003    Keyboard  Accessories         3     50  Charlie   East    150\n",
            "3     1004     Monitor  Electronics         4    200    Diana   West    800\n",
            "4     1005      Laptop  Electronics         1    850    Ethan  North    850\n",
            "5     1006  Headphones  Accessories         6     40    Fiona  South    240\n",
            "New shape: (19, 8)\n"
          ]
        }
      ]
    },
    {
      "cell_type": "code",
      "source": [
        "result1 = df[(df[\"Category\"] == \"Electronics\") & (df[\"Quantity\"] >= 3)]\n",
        "print(\"Electronics with Quantity >= 3\")\n",
        "print(result1)\n",
        "result2 = df[df[\"Price\"] > 500]\n",
        "print(\"\\nProducts with Price > 500\")\n",
        "print(result2)\n",
        "count_north = df[df[\"Region\"] == \"North\"].shape[0]\n",
        "print(\"\\nNorth orders:\", count_north)"
      ],
      "metadata": {
        "id": "0-29K__ZnK_Y",
        "outputId": "c17f65e7-d726-4109-c0f4-ad5a7e5f2ee5",
        "colab": {
          "base_uri": "https://localhost:8080/"
        }
      },
      "execution_count": 30,
      "outputs": [
        {
          "output_type": "stream",
          "name": "stdout",
          "text": [
            "Electronics with Quantity >= 3\n",
            "    OrderID  Product     Category  Quantity  Price Customer Region  Total\n",
            "3      1004  Monitor  Electronics         4    200    Diana   West    800\n",
            "14     1015   Laptop  Electronics         5    750    Oscar   East   3750\n",
            "17     1018  Monitor  Electronics         4    220   Robert  South    880\n"
          ]
        }
      ]
    },
    {
      "cell_type": "code",
      "source": [
        "west_sales = df[df[\"Region\"] == \"West\"]\n",
        "print(\"Sales in West region\")\n",
        "print(west_sales)\n",
        "alice_sales = df[df[\"Customer\"] == \"Alice\"]\n",
        "print(\"\\nSales by Alice\")\n",
        "print(alice_sales)\n",
        "subset_sales = df[df[\"Product\"].isin([\"Laptop\", \"Printer\"])]\n",
        "print(\"\\nSales of Laptop or Printer\")\n",
        "print(subset_sales)"
      ],
      "metadata": {
        "id": "Ye8hPdKbnaMR",
        "outputId": "9e2d5c19-a599-4597-96b7-fd2bf8e33dd8",
        "colab": {
          "base_uri": "https://localhost:8080/"
        }
      },
      "execution_count": 34,
      "outputs": [
        {
          "output_type": "stream",
          "name": "stdout",
          "text": [
            "Sales in West region\n",
            "    OrderID     Product     Category  Quantity  Price Customer Region  Total\n",
            "3      1004     Monitor  Electronics         4    200    Diana   West    800\n",
            "7      1008       Chair    Furniture         2    150   Hannah   West    300\n",
            "11     1012    Keyboard  Accessories         4     55    Laura   West    220\n",
            "15     1016  Headphones  Accessories         3     35     Paul   West    105\n",
            "19     1020       Chair    Furniture         6    180      Tom   West   1080\n"
          ]
        }
      ]
    },
    {
      "cell_type": "code",
      "source": [
        "df[\"Price\"] = df[\"Price\"].astype(float)\n",
        "df.loc[df[\"Category\"] == \"Furniture\", \"Price\"] *= 1.1\n",
        "df[\"Total\"] = df[\"Quantity\"] * df[\"Price\"]\n",
        "print(\"Updated Furniture rows\")\n",
        "print(df[df[\"Category\"] == \"Furniture\"])"
      ],
      "metadata": {
        "id": "hlYTRzz0n99R",
        "outputId": "653135bd-fb3a-4826-d765-76f4752d3788",
        "colab": {
          "base_uri": "https://localhost:8080/"
        }
      },
      "execution_count": 39,
      "outputs": [
        {
          "output_type": "stream",
          "name": "stdout",
          "text": [
            "Updated Furniture rows\n",
            "    OrderID Product   Category  Quantity    Price Customer Region     Total\n",
            "7      1008   Chair  Furniture         2  219.615   Hannah   West   439.230\n",
            "8      1009    Desk  Furniture         1  439.230      Ian  North   439.230\n",
            "16     1017    Desk  Furniture         2  409.948    Queen  North   819.896\n",
            "19     1020   Chair  Furniture         6  263.538      Tom   West  1581.228\n"
          ]
        }
      ]
    },
    {
      "cell_type": "code",
      "source": [
        "multi_sort = df.sort_values(by=[\"Region\", \"Customer\"])\n",
        "print(\"\\nSorted by Region then Customer\")\n",
        "print(multi_sort.head())"
      ],
      "metadata": {
        "id": "bx5MuwxcoTyO",
        "outputId": "2c6efb9f-5588-4e8b-ff85-b90b763a83aa",
        "colab": {
          "base_uri": "https://localhost:8080/"
        }
      },
      "execution_count": 42,
      "outputs": [
        {
          "output_type": "stream",
          "name": "stdout",
          "text": [
            "\n",
            "Sorted by Region then Customer\n",
            "    OrderID   Product     Category  Quantity  Price Customer Region   Total\n",
            "2      1003  Keyboard  Accessories         3   50.0  Charlie   East   150.0\n",
            "6      1007     Mouse  Accessories        10   30.0   George   East   300.0\n",
            "10     1011   Printer  Electronics         2  120.0     Kyle   East   240.0\n",
            "14     1015    Laptop  Electronics         5  750.0    Oscar   East  3750.0\n",
            "18     1019   Printer  Electronics         1  110.0    Sarah   East   110.0\n"
          ]
        }
      ]
    }
  ]
}